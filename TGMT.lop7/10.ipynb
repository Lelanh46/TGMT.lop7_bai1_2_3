{
 "cells": [
  {
   "cell_type": "code",
   "execution_count": 1,
   "id": "aefeeaa5-2f17-4669-8287-dcbc591741ad",
   "metadata": {},
   "outputs": [],
   "source": [
    "#import thư viện\n",
    "from PIL import Image\n",
    "import matplotlib.pyplot as plt"
   ]
  },
  {
   "cell_type": "code",
   "execution_count": 2,
   "id": "6996cb1e-2b2b-4266-8575-c2ab57e92e10",
   "metadata": {},
   "outputs": [],
   "source": [
    "# Đường dẫn ảnh\n",
    "my_path = \"C:/Users/ADMIN/TGMT.lop7/anh/1.jpg\""
   ]
  },
  {
   "cell_type": "code",
   "execution_count": 5,
   "id": "38ebe15f-b636-42bb-84f5-df6761a03a80",
   "metadata": {},
   "outputs": [
    {
     "name": "stdout",
     "output_type": "stream",
     "text": [
      "[(347.8870967741936, 241.82258064516122), (553.0483870967741, 265.04838709677415), (862.7258064516129, 187.6290322580644), (1780.1451612903227, 292.14516129032245), (1114.3387096774193, 745.0483870967741)]\n"
     ]
    }
   ],
   "source": [
    "#đọc ảnh\n",
    "im = Image.open(my_path)\n",
    "#chuyển đổi backend\n",
    "plt.switch_backend('tkagg')\n",
    "#hiển thị ảnh\n",
    "plt.imshow(im)\n",
    "plt.title(\"Click on the image to select points\")\n",
    "#sử dụng hàm ginput để chọn điểm trên ảnh\n",
    "points = plt.ginput(5)\n",
    "print(points)\n",
    "\n",
    "#hiển thị\n",
    "plt.show()\n"
   ]
  },
  {
   "cell_type": "code",
   "execution_count": null,
   "id": "c3ed2075-b7ef-4f8c-a460-c4652eb80ff6",
   "metadata": {},
   "outputs": [],
   "source": [
    "#vẽ lại các điểm đã chọn bảng dáu* màu đỏ\n",
    "plt.close()\n",
    "# Vẽ lại\n",
    "plt.imshow(im)\n",
    "for point in points:\n",
    "    x, y = point\n",
    "    plt.plot(x,y, 'r*')\n",
    "\n",
    "plt.show()"
   ]
  },
  {
   "cell_type": "code",
   "execution_count": null,
   "id": "eaa5ead6-d449-4dbf-987f-afde1bdf04b7",
   "metadata": {},
   "outputs": [],
   "source": []
  }
 ],
 "metadata": {
  "kernelspec": {
   "display_name": "Python 3 (ipykernel)",
   "language": "python",
   "name": "python3"
  },
  "language_info": {
   "codemirror_mode": {
    "name": "ipython",
    "version": 3
   },
   "file_extension": ".py",
   "mimetype": "text/x-python",
   "name": "python",
   "nbconvert_exporter": "python",
   "pygments_lexer": "ipython3",
   "version": "3.12.4"
  }
 },
 "nbformat": 4,
 "nbformat_minor": 5
}
