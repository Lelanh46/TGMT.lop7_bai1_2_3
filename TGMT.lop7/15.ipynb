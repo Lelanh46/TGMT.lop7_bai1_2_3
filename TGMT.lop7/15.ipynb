{
 "cells": [
  {
   "cell_type": "code",
   "execution_count": 1,
   "id": "a57ccebd-e72a-4107-b047-b6442975b0d2",
   "metadata": {},
   "outputs": [
    {
     "name": "stdout",
     "output_type": "stream",
     "text": [
      "Defaulting to user installation because normal site-packages is not writeable\n",
      "Requirement already satisfied: scipy in e:\\fileluutru\\anacoda\\lib\\site-packages (1.13.1)\n",
      "Requirement already satisfied: numpy<2.3,>=1.22.4 in e:\\fileluutru\\anacoda\\lib\\site-packages (from scipy) (1.26.4)\n"
     ]
    }
   ],
   "source": [
    "#!pip install scipy"
   ]
  },
  {
   "cell_type": "code",
   "execution_count": 2,
   "id": "20a875d2-7105-464f-962c-eb5fb2f118fe",
   "metadata": {},
   "outputs": [],
   "source": [
    "from scipy import linalg\n",
    "import numpy as np\n"
   ]
  },
  {
   "cell_type": "code",
   "execution_count": 3,
   "id": "cfec4f19-3ece-456a-8df3-b60098129154",
   "metadata": {},
   "outputs": [
    {
     "name": "stdout",
     "output_type": "stream",
     "text": [
      "kết quả:  [ 3. -1.]\n"
     ]
    }
   ],
   "source": [
    "# định nghĩa hệ phương trình tuyến tính\n",
    "A = np.array([[2,1],[3,2]])\n",
    "b = np.array([5,7])\n",
    "\n",
    "#giải hệ phương trình tuyến tính\n",
    "x = linalg.solve(A,b)\n",
    "print(\"kết quả: \",x)\n"
   ]
  },
  {
   "cell_type": "code",
   "execution_count": 15,
   "id": "26dc0954-06f7-42e7-95c2-bbf35362694c",
   "metadata": {},
   "outputs": [
    {
     "name": "stdout",
     "output_type": "stream",
     "text": [
      " tích phân f(x) từ 2 đến 5:  (55.5, 6.161737786669619e-13)\n"
     ]
    }
   ],
   "source": [
    "# tính tích phân của một hàm số\n",
    "from scipy import integrate\n",
    "\n",
    "# định nghĩa f(x)=x^2\n",
    "def my_function(x):\n",
    "    return x**2+x+2;\n",
    "\n",
    "# tính tích phân của f(x) từ 0 đến 1\n",
    "integral = integrate.quad(my_function, 2, 5);\n",
    "print(\" tích phân f(x) từ 2 đến 5: \", integral)"
   ]
  },
  {
   "cell_type": "code",
   "execution_count": 17,
   "id": "7d3f5bf3-68b4-45e9-bbc8-0930fffbe43b",
   "metadata": {},
   "outputs": [
    {
     "name": "stdout",
     "output_type": "stream",
     "text": [
      "Gía trị riêng:  [4.73205081+0.j 1.26794919+0.j]\n",
      "Gía trị riêng:  [[ 0.5       -0.5      ]\n",
      " [ 0.8660254  0.8660254]]\n"
     ]
    }
   ],
   "source": [
    "from scipy import linalg\n",
    "import numpy as np\n",
    "\n",
    "#tính giá trị riêng và vector riêng của một ma trận\n",
    "A =  np.array([[3,1], [3,3]])\n",
    "\n",
    "#Tính giá trị riêng và vector riêng\n",
    "evals, evecs = linalg.eig(A)\n",
    "print(\"Gía trị riêng: \", evals)\n",
    "print(\"Gía trị riêng: \", evecs)\n"
   ]
  },
  {
   "cell_type": "code",
   "execution_count": null,
   "id": "168e0c98-2ff0-4952-9ed6-160ff41c05f5",
   "metadata": {},
   "outputs": [],
   "source": []
  },
  {
   "cell_type": "code",
   "execution_count": null,
   "id": "4c1966bd-a1f4-46f3-90c6-fc29a3a5df9f",
   "metadata": {},
   "outputs": [],
   "source": []
  }
 ],
 "metadata": {
  "kernelspec": {
   "display_name": "Python 3 (ipykernel)",
   "language": "python",
   "name": "python3"
  },
  "language_info": {
   "codemirror_mode": {
    "name": "ipython",
    "version": 3
   },
   "file_extension": ".py",
   "mimetype": "text/x-python",
   "name": "python",
   "nbconvert_exporter": "python",
   "pygments_lexer": "ipython3",
   "version": "3.12.4"
  }
 },
 "nbformat": 4,
 "nbformat_minor": 5
}
